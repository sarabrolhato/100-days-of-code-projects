{
 "cells": [
  {
   "cell_type": "markdown",
   "metadata": {},
   "source": [
    "## Day 13 - Debugging: How to Find and Fix Errors in your Code"
   ]
  },
  {
   "cell_type": "code",
   "execution_count": null,
   "metadata": {},
   "outputs": [
    {
     "name": "stdout",
     "output_type": "stream",
     "text": [
      "You got it\n"
     ]
    }
   ],
   "source": [
    "# 1. Describe the problem\n",
    "\n",
    "def my_function():\n",
    "    # for i in range(1, 20):\n",
    "    for i in range(1, 21):\n",
    "        if i == 20:\n",
    "            print(\"You got it\")\n",
    "\n",
    "my_function()\n",
    "            \n",
    "# 1) What it the for loop doing?\n",
    "# 2) When is the function meant to print \"You got it\"?\n",
    "# 3) What are your assumptions about the value of i?"
   ]
  },
  {
   "cell_type": "code",
   "execution_count": null,
   "metadata": {},
   "outputs": [
    {
     "name": "stdout",
     "output_type": "stream",
     "text": [
      "3\n"
     ]
    }
   ],
   "source": [
    "# 2. Reproduce the bug\n",
    "\n",
    "from random import randint\n",
    "\n",
    "dice_images = [\"1\", \"2\", \"3\", \"4\", \"5\", \"6\"]\n",
    "# dice_num = randint(1, 6)\n",
    "dice_num = randint(0, 5)\n",
    "print(dice_images[dice_num])\n"
   ]
  },
  {
   "cell_type": "code",
   "execution_count": null,
   "metadata": {},
   "outputs": [
    {
     "name": "stdout",
     "output_type": "stream",
     "text": [
      "What's your year of birth? 1994\n"
     ]
    },
    {
     "name": "stdout",
     "output_type": "stream",
     "text": [
      "You are a millenial.\n"
     ]
    }
   ],
   "source": [
    "# 3. Play computer and evaluate each line\n",
    "\n",
    "year = int(input(\"What's your year of birth?\"))\n",
    "\n",
    "# if year > 1980 and year < 1994:\n",
    "if year > 1980 and year <= 1994:\n",
    "    print(\"You are a millenial.\")\n",
    "elif year > 1994:\n",
    "    print(\"You are a Gen Z.\")"
   ]
  },
  {
   "cell_type": "code",
   "execution_count": null,
   "metadata": {},
   "outputs": [
    {
     "name": "stdout",
     "output_type": "stream",
     "text": [
      "How old are you? 19\n"
     ]
    },
    {
     "name": "stdout",
     "output_type": "stream",
     "text": [
      "You can drive at age {age}\n"
     ]
    }
   ],
   "source": [
    "# 4. Fixing errors and watching for red underlines\n",
    "\n",
    "age = int(input(\"How old are you?\"))\n",
    "if age > 18:\n",
    "    print(\"You can drive at age {age}\")\n",
    "\n",
    "# This will only work if the user types a number. If it types \"twelve\", it will return an error for not being able to convert it into an integer"
   ]
  },
  {
   "cell_type": "code",
   "execution_count": null,
   "metadata": {},
   "outputs": [
    {
     "name": "stdout",
     "output_type": "stream",
     "text": [
      "How old are you? twenty\n"
     ]
    },
    {
     "name": "stdout",
     "output_type": "stream",
     "text": [
      "You have typed an invalid number. Please try again with a numerican response such as 15.\n"
     ]
    },
    {
     "name": "stdout",
     "output_type": "stream",
     "text": [
      "How old are you? 20\n"
     ]
    },
    {
     "name": "stdout",
     "output_type": "stream",
     "text": [
      "You can drive at age 20\n"
     ]
    }
   ],
   "source": [
    "# We can use a try-except block:\n",
    "\n",
    "try:\n",
    "    age = int(input(\"How old are you?\"))\n",
    "except ValueError:\n",
    "    print(\"You have typed an invalid number. Please try again with a numerican response such as 15.\")\n",
    "    age = int(input(\"How old are you?\"))\n",
    "\n",
    "if age > 18:\n",
    "    print(f\"You can drive at age {age}\")"
   ]
  },
  {
   "cell_type": "code",
   "execution_count": null,
   "metadata": {},
   "outputs": [
    {
     "name": "stdout",
     "output_type": "stream",
     "text": [
      "Number of pages:  45\n",
      "Number of words per page:  250\n"
     ]
    },
    {
     "name": "stdout",
     "output_type": "stream",
     "text": [
      "11250\n"
     ]
    }
   ],
   "source": [
    "# 5. Squash bugs with a print statement\n",
    "\n",
    "word_per_page = 0\n",
    "pages = int(input(\"Number of pages: \"))\n",
    "#word_per_page == int(input(\"Number of words per page: \"))\n",
    "word_per_page = int(input(\"Number of words per page: \"))\n",
    "\n",
    "print(f\"pages = {pages}\")\n",
    "print(f\"word_per_page = {word_per_page}\")\n",
    "\n",
    "total_words = pages * word_per_page\n",
    "print(total_words)"
   ]
  },
  {
   "cell_type": "code",
   "execution_count": null,
   "metadata": {},
   "outputs": [
    {
     "name": "stdout",
     "output_type": "stream",
     "text": [
      "[4, 8, 10, 18, 25, 40]\n"
     ]
    }
   ],
   "source": [
    "# 6. Use a debugger\n",
    "\n",
    "import random\n",
    "\n",
    "def mutate(a_list):\n",
    "    b_list = []\n",
    "    new_item = 0\n",
    "    for item in a_list:\n",
    "        new_item = item * 2\n",
    "        new_item += random.randint(1, 3)\n",
    "        new_item = new_item + item\n",
    "    # b_list.append(new_item)\n",
    "        b_list.append(new_item)\n",
    "    print(b_list)\n",
    "\n",
    "mutate([1, 2, 3, 5, 8, 13])"
   ]
  }
 ],
 "metadata": {
  "kernelspec": {
   "display_name": "base",
   "language": "python",
   "name": "python3"
  },
  "language_info": {
   "codemirror_mode": {
    "name": "ipython",
    "version": 3
   },
   "file_extension": ".py",
   "mimetype": "text/x-python",
   "name": "python",
   "nbconvert_exporter": "python",
   "pygments_lexer": "ipython3",
   "version": "3.12.3"
  }
 },
 "nbformat": 4,
 "nbformat_minor": 2
}
